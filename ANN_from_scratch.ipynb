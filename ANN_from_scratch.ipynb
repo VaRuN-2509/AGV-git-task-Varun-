{
  "nbformat": 4,
  "nbformat_minor": 0,
  "metadata": {
    "colab": {
      "provenance": [],
      "gpuType": "T4",
      "authorship_tag": "ABX9TyMhbJ2wSsKkZ0XYtpoFRXXR",
      "include_colab_link": true
    },
    "kernelspec": {
      "name": "python3",
      "display_name": "Python 3"
    },
    "language_info": {
      "name": "python"
    },
    "accelerator": "GPU"
  },
  "cells": [
    {
      "cell_type": "markdown",
      "metadata": {
        "id": "view-in-github",
        "colab_type": "text"
      },
      "source": [
        "<a href=\"https://colab.research.google.com/github/VaRuN-2509/AGV-git-task-Varun-/blob/main/ANN_from_scratch.ipynb\" target=\"_parent\"><img src=\"https://colab.research.google.com/assets/colab-badge.svg\" alt=\"Open In Colab\"/></a>"
      ]
    },
    {
      "cell_type": "code",
      "execution_count": null,
      "metadata": {
        "id": "Ol7tKg9RW6Di"
      },
      "outputs": [],
      "source": [
        "#Import the required libraries and load the data\n",
        "import numpy as np\n",
        "import pandas as pd\n",
        "import yaml\n",
        "from matplotlib import pyplot as plt\n",
        "\n",
        "#read the data set\n",
        "data = pd.read_csv('/content/train.csv')\n",
        "config_file = None\n",
        "\n",
        "#later we wil need to perform calculations related to exponential but the datas would have mixed type hence defining a vectorized exp function\n",
        "exp_func = np.vectorize(np.exp)\n",
        "\n",
        "\n",
        "m,n = data.shape\n",
        "\n",
        "if config_file is not None:\n",
        "  with open(config_file,'r') as f:\n",
        "    config = yaml.safe_load(f)\n",
        "\n",
        "  model = config['model']\n",
        "  lr = config['model']['learning_rate']\n",
        "  ratio = config['model']['train_test_ratio']\n",
        "else:\n",
        "  ratio = 0.8\n",
        "\n",
        "data.head()\n"
      ]
    },
    {
      "cell_type": "code",
      "source": [
        "#Seperate the data set for training and testing for features(X) and output(Y)\n",
        "data = np.array(data)\n",
        "np.random.shuffle(data) #shuffles the entries of array\n",
        "\n",
        "#80% of dataset for training i.e 120 datas\n",
        "#20% data set for testing i.e the remaining 30 datas\n",
        "\n",
        "data_train = data[0:int(ratio*m)]  #obtains 80% of data object\n",
        "X_train = data_train[:,1:] #obtains the features excluding the output which is 'Species'\n",
        "Y_train = data_train[:,0].reshape(-1).astype(int)  #obtains the output set 'Species'\n",
        "\n",
        "data_test = data[int(ratio*m):,:]\n",
        "X_test = data_test[:,1:] #obtains the features excluding the output which is 'Species'\n",
        "Y_test = data_test[:,0].reshape(-1).astype(int) #obtains the output set 'Species'\n",
        "print(\"Shape of train set x:\",X_train.shape,\"y:\",Y_train.shape)\n",
        "print(\"Shape of test set x:\",X_test.shape,\"y:\",Y_test.shape)\n",
        "\n",
        "M,N = X_train.shape\n",
        "print(Y_train)\n",
        "\n"
      ],
      "metadata": {
        "id": "lB7yGNIXaEOc",
        "colab": {
          "base_uri": "https://localhost:8080/"
        },
        "outputId": "dfe8d9ef-15ec-4617-d540-d5886bbfb3bc"
      },
      "execution_count": null,
      "outputs": [
        {
          "output_type": "stream",
          "name": "stdout",
          "text": [
            "Shape of train set x: (33600, 784) y: (33600,)\n",
            "Shape of test set x: (8400, 784) y: (8400,)\n",
            "[4 8 7 ... 8 6 3]\n"
          ]
        }
      ]
    },
    {
      "cell_type": "code",
      "source": [
        "# Initialize the parameters for the neural network\n",
        "def _init_():\n",
        "    W1 = np.random.randn(N, 100) * np.sqrt(2./N)\n",
        "    b1 = np.zeros((1, 100))\n",
        "    W2 = np.random.randn(100,100) * np.sqrt(2./100)\n",
        "    b2 = np.zeros((1,100))\n",
        "    W3 = np.random.randn(100, 10) * np.sqrt(2./100)\n",
        "    b3 = np.zeros((1, 10))\n",
        "\n",
        "    return W1, b1, W2, b2, W3, b3\n",
        "\n",
        "def relu(Z):\n",
        "    return np.maximum(0, Z)\n",
        "\n",
        "\n",
        "def deriv_relu(Z):\n",
        "    return np.where(Z>0, 1, 0).astype(float)\n",
        "\n",
        "# Softmax function for output layer\n",
        "def softmax(Z):\n",
        "    Z_shift = Z - np.max(Z, axis=1, keepdims=True) # subtract row-wise max\n",
        "    exp_vals = (np.exp(Z_shift)).T\n",
        "    return (exp_vals / np.sum(exp_vals, axis=1, keepdims=True)).T\n",
        "\n",
        "# One-hot encode the output labels\n",
        "def one_hot_vector(Y):\n",
        "    Y_one_hot = np.zeros((Y.size, 10))\n",
        "    for i in range(Y.size):\n",
        "        Y_one_hot[i][int(Y[i])] = 1 #One_hote code splits your numeric value as 0s and 1s where 1 is placed in the index of your numeric Value\n",
        "    return Y_one_hot\n",
        "\n",
        "# Forward propagation loop\n",
        "def forwardloop(W1, b1, W2, b2, W3, b3, X):\n",
        "    Z1 = np.dot(X, W1) + b1\n",
        "    A1 = relu(Z1)\n",
        "    Z2 = np.dot(A1, W2) + b2\n",
        "    A2 = relu(Z2)\n",
        "    Z3 = np.dot(A2,W3) + b3\n",
        "    A3 = softmax(Z3)\n",
        "    return Z1, A1, Z2, A2, Z3, A3\n",
        "\n",
        "\n",
        "def backwardloop(Z1, Z2, Z3, A1, A2, A3, W1, W2, W3, X, Y):\n",
        "    M = X.shape[0]\n",
        "    dZ3 = (A3-Y)\n",
        "    dW3 = (1 / M) * np.dot(A2.T,dZ3)\n",
        "    db3 = (1 / M) * np.sum(dZ3, axis=0, keepdims=True)\n",
        "    dZ2 = np.dot(dZ3,W3.T) * deriv_relu(Z2)\n",
        "    dW2 = (1 / M) * np.dot(A1.T,dZ2)\n",
        "    db2 = (1 / M) * np.sum(dZ2, axis=0, keepdims=True)\n",
        "    dZ1 = np.dot(dZ2,W2.T)*deriv_relu(Z1)\n",
        "    dW1 = (1 / M) * np.dot(X.T,dZ1)\n",
        "    db1 = (1 / M) * np.sum(dZ1, axis=0, keepdims=True)\n",
        "\n",
        "    return dW1,db1,dW2,db2,dW3,db3\n",
        "\n",
        "def update(W1, W2, W3, b1, b2, b3, dW1, dW2, dW3, db1, db2, db3, alpha):\n",
        "    W1 = W1 - alpha*dW1\n",
        "    W2 = W2 - alpha*dW2\n",
        "    W3 = W3 - alpha*dW3\n",
        "    b1 = b1 - alpha*db1\n",
        "    b2 = b2 - alpha*db2\n",
        "    b3 = b3 - alpha*db3\n",
        "\n",
        "    return W1,W2,W3,b1,b2,b3\n",
        "\n",
        "# Predict output by taking the max probability\n",
        "def predicted_output(A3):\n",
        "    return np.argmax(A3, axis=1) #argmax returns the index of maximum values among the elements in axis 0(columns) Thereby you get the probability of 1 being in that position and the A2 matrix\n",
        "\n",
        "# Calculate accuracy\n",
        "def get_accuracy(output, Y):\n",
        "    accuracy = np.sum(output == Y) / Y.size #accuracy is no.of correct prediction/total no.of predictions\n",
        "    print(f\"Predicted result: {output}\")\n",
        "    print(f\"Actual result: {Y}\")\n",
        "    return accuracy\n",
        "\n",
        "def compute_loss(A3, Y_one_hot):\n",
        "    return -np.mean(np.sum(Y_one_hot * np.log(A3 + 1e-9), axis=1))\n",
        "\n",
        "# Full training process\n",
        "def iterate_process(X, Y, alpha, iterations):\n",
        "    W1, b1, W2, b2, W3, b3 = _init_()\n",
        "    for i in range(iterations):\n",
        "        Z1, A1, Z2, A2, Z3, A3 = forwardloop(W1, b1, W2, b2, W3, b3, X)\n",
        "        Y_encoded = one_hot_vector(Y)\n",
        "        dW1,db1,dW2,db2,dW3,db3 = backwardloop(Z1, Z2, Z3, A1, A2, A3, W1, W2, W3, X, Y_encoded)\n",
        "        W1, W2, W3, b1, b2, b3 = update(W1, W2, W3, b1, b2, b3, dW1, dW2, dW3, db1, db2, db3, alpha)\n",
        "        loss = compute_loss(A3, Y_encoded)\n",
        "\n",
        "\n",
        "        if i % 2 == 0:\n",
        "            output = predicted_output(A3)\n",
        "            accuracy = get_accuracy(output, Y)\n",
        "            print(f\"Iteration {i}: A2 mean = {A3.mean()}, std = {A3.std()}\")\n",
        "            print(\"A3 min/max/mean:\", A3.min(), A3.max(), A3.mean())\n",
        "            print(f\"Iteration {i}: Loss = {loss:.4f}, Accuracy = {accuracy:.2f}\")\n",
        "\n",
        "    return W1, W2, W3, b1, b2, b3\n",
        "W1,W2,W3,b1,b2,b3 = iterate_process(X_train,Y_train,0.01,50)\n"
      ],
      "metadata": {
        "id": "CfAwRvLpbVej",
        "colab": {
          "base_uri": "https://localhost:8080/",
          "height": 616
        },
        "collapsed": true,
        "outputId": "e2476bc2-f048-40ff-853f-4a6b8e164643"
      },
      "execution_count": null,
      "outputs": [
        {
          "output_type": "stream",
          "name": "stdout",
          "text": [
            "Predicted result: [0 0 0 ... 6 1 8]\n",
            "Actual result: [4 8 7 ... 8 6 3]\n",
            "Iteration 0: A2 mean = 2.9761904761904836e-05, std = 0.000904115915997074\n",
            "A3 min/max/mean: 3.319690037664925e-294 0.27787975223633316 2.9761904761904836e-05\n",
            "Iteration 0: Loss = 19.6635, Accuracy = 0.08\n"
          ]
        },
        {
          "output_type": "stream",
          "name": "stderr",
          "text": [
            "/tmp/ipython-input-1788977512.py:23: RuntimeWarning: invalid value encountered in divide\n",
            "  return (exp_vals / np.sum(exp_vals, axis=1, keepdims=True)).T\n"
          ]
        },
        {
          "output_type": "stream",
          "name": "stdout",
          "text": [
            "Predicted result: [1 1 1 ... 1 1 1]\n",
            "Actual result: [4 8 7 ... 8 6 3]\n",
            "Iteration 2: A2 mean = nan, std = nan\n",
            "A3 min/max/mean: nan nan nan\n",
            "Iteration 2: Loss = nan, Accuracy = 0.11\n",
            "Predicted result: [0 0 0 ... 0 0 0]\n",
            "Actual result: [4 8 7 ... 8 6 3]\n",
            "Iteration 4: A2 mean = nan, std = nan\n",
            "A3 min/max/mean: nan nan nan\n",
            "Iteration 4: Loss = nan, Accuracy = 0.10\n"
          ]
        },
        {
          "output_type": "error",
          "ename": "KeyboardInterrupt",
          "evalue": "",
          "traceback": [
            "\u001b[0;31m---------------------------------------------------------------------------\u001b[0m",
            "\u001b[0;31mKeyboardInterrupt\u001b[0m                         Traceback (most recent call last)",
            "\u001b[0;32m/tmp/ipython-input-1788977512.py\u001b[0m in \u001b[0;36m<cell line: 0>\u001b[0;34m()\u001b[0m\n\u001b[1;32m     98\u001b[0m \u001b[0;34m\u001b[0m\u001b[0m\n\u001b[1;32m     99\u001b[0m     \u001b[0;32mreturn\u001b[0m \u001b[0mW1\u001b[0m\u001b[0;34m,\u001b[0m \u001b[0mW2\u001b[0m\u001b[0;34m,\u001b[0m \u001b[0mW3\u001b[0m\u001b[0;34m,\u001b[0m \u001b[0mb1\u001b[0m\u001b[0;34m,\u001b[0m \u001b[0mb2\u001b[0m\u001b[0;34m,\u001b[0m \u001b[0mb3\u001b[0m\u001b[0;34m\u001b[0m\u001b[0;34m\u001b[0m\u001b[0m\n\u001b[0;32m--> 100\u001b[0;31m \u001b[0mW1\u001b[0m\u001b[0;34m,\u001b[0m\u001b[0mW2\u001b[0m\u001b[0;34m,\u001b[0m\u001b[0mW3\u001b[0m\u001b[0;34m,\u001b[0m\u001b[0mb1\u001b[0m\u001b[0;34m,\u001b[0m\u001b[0mb2\u001b[0m\u001b[0;34m,\u001b[0m\u001b[0mb3\u001b[0m \u001b[0;34m=\u001b[0m \u001b[0miterate_process\u001b[0m\u001b[0;34m(\u001b[0m\u001b[0mX_train\u001b[0m\u001b[0;34m,\u001b[0m\u001b[0mY_train\u001b[0m\u001b[0;34m,\u001b[0m\u001b[0;36m0.01\u001b[0m\u001b[0;34m,\u001b[0m\u001b[0;36m50\u001b[0m\u001b[0;34m)\u001b[0m\u001b[0;34m\u001b[0m\u001b[0;34m\u001b[0m\u001b[0m\n\u001b[0m",
            "\u001b[0;32m/tmp/ipython-input-1788977512.py\u001b[0m in \u001b[0;36miterate_process\u001b[0;34m(X, Y, alpha, iterations)\u001b[0m\n\u001b[1;32m     83\u001b[0m     \u001b[0mW1\u001b[0m\u001b[0;34m,\u001b[0m \u001b[0mb1\u001b[0m\u001b[0;34m,\u001b[0m \u001b[0mW2\u001b[0m\u001b[0;34m,\u001b[0m \u001b[0mb2\u001b[0m\u001b[0;34m,\u001b[0m \u001b[0mW3\u001b[0m\u001b[0;34m,\u001b[0m \u001b[0mb3\u001b[0m \u001b[0;34m=\u001b[0m \u001b[0m_init_\u001b[0m\u001b[0;34m(\u001b[0m\u001b[0;34m)\u001b[0m\u001b[0;34m\u001b[0m\u001b[0;34m\u001b[0m\u001b[0m\n\u001b[1;32m     84\u001b[0m     \u001b[0;32mfor\u001b[0m \u001b[0mi\u001b[0m \u001b[0;32min\u001b[0m \u001b[0mrange\u001b[0m\u001b[0;34m(\u001b[0m\u001b[0miterations\u001b[0m\u001b[0;34m)\u001b[0m\u001b[0;34m:\u001b[0m\u001b[0;34m\u001b[0m\u001b[0;34m\u001b[0m\u001b[0m\n\u001b[0;32m---> 85\u001b[0;31m         \u001b[0mZ1\u001b[0m\u001b[0;34m,\u001b[0m \u001b[0mA1\u001b[0m\u001b[0;34m,\u001b[0m \u001b[0mZ2\u001b[0m\u001b[0;34m,\u001b[0m \u001b[0mA2\u001b[0m\u001b[0;34m,\u001b[0m \u001b[0mZ3\u001b[0m\u001b[0;34m,\u001b[0m \u001b[0mA3\u001b[0m \u001b[0;34m=\u001b[0m \u001b[0mforwardloop\u001b[0m\u001b[0;34m(\u001b[0m\u001b[0mW1\u001b[0m\u001b[0;34m,\u001b[0m \u001b[0mb1\u001b[0m\u001b[0;34m,\u001b[0m \u001b[0mW2\u001b[0m\u001b[0;34m,\u001b[0m \u001b[0mb2\u001b[0m\u001b[0;34m,\u001b[0m \u001b[0mW3\u001b[0m\u001b[0;34m,\u001b[0m \u001b[0mb3\u001b[0m\u001b[0;34m,\u001b[0m \u001b[0mX\u001b[0m\u001b[0;34m)\u001b[0m\u001b[0;34m\u001b[0m\u001b[0;34m\u001b[0m\u001b[0m\n\u001b[0m\u001b[1;32m     86\u001b[0m         \u001b[0mY_encoded\u001b[0m \u001b[0;34m=\u001b[0m \u001b[0mone_hot_vector\u001b[0m\u001b[0;34m(\u001b[0m\u001b[0mY\u001b[0m\u001b[0;34m)\u001b[0m\u001b[0;34m\u001b[0m\u001b[0;34m\u001b[0m\u001b[0m\n\u001b[1;32m     87\u001b[0m         \u001b[0mdW1\u001b[0m\u001b[0;34m,\u001b[0m\u001b[0mdb1\u001b[0m\u001b[0;34m,\u001b[0m\u001b[0mdW2\u001b[0m\u001b[0;34m,\u001b[0m\u001b[0mdb2\u001b[0m\u001b[0;34m,\u001b[0m\u001b[0mdW3\u001b[0m\u001b[0;34m,\u001b[0m\u001b[0mdb3\u001b[0m \u001b[0;34m=\u001b[0m \u001b[0mbackwardloop\u001b[0m\u001b[0;34m(\u001b[0m\u001b[0mZ1\u001b[0m\u001b[0;34m,\u001b[0m \u001b[0mZ2\u001b[0m\u001b[0;34m,\u001b[0m \u001b[0mZ3\u001b[0m\u001b[0;34m,\u001b[0m \u001b[0mA1\u001b[0m\u001b[0;34m,\u001b[0m \u001b[0mA2\u001b[0m\u001b[0;34m,\u001b[0m \u001b[0mA3\u001b[0m\u001b[0;34m,\u001b[0m \u001b[0mW1\u001b[0m\u001b[0;34m,\u001b[0m \u001b[0mW2\u001b[0m\u001b[0;34m,\u001b[0m \u001b[0mW3\u001b[0m\u001b[0;34m,\u001b[0m \u001b[0mX\u001b[0m\u001b[0;34m,\u001b[0m \u001b[0mY_encoded\u001b[0m\u001b[0;34m)\u001b[0m\u001b[0;34m\u001b[0m\u001b[0;34m\u001b[0m\u001b[0m\n",
            "\u001b[0;32m/tmp/ipython-input-1788977512.py\u001b[0m in \u001b[0;36mforwardloop\u001b[0;34m(W1, b1, W2, b2, W3, b3, X)\u001b[0m\n\u001b[1;32m     32\u001b[0m \u001b[0;31m# Forward propagation loop\u001b[0m\u001b[0;34m\u001b[0m\u001b[0;34m\u001b[0m\u001b[0m\n\u001b[1;32m     33\u001b[0m \u001b[0;32mdef\u001b[0m \u001b[0mforwardloop\u001b[0m\u001b[0;34m(\u001b[0m\u001b[0mW1\u001b[0m\u001b[0;34m,\u001b[0m \u001b[0mb1\u001b[0m\u001b[0;34m,\u001b[0m \u001b[0mW2\u001b[0m\u001b[0;34m,\u001b[0m \u001b[0mb2\u001b[0m\u001b[0;34m,\u001b[0m \u001b[0mW3\u001b[0m\u001b[0;34m,\u001b[0m \u001b[0mb3\u001b[0m\u001b[0;34m,\u001b[0m \u001b[0mX\u001b[0m\u001b[0;34m)\u001b[0m\u001b[0;34m:\u001b[0m\u001b[0;34m\u001b[0m\u001b[0;34m\u001b[0m\u001b[0m\n\u001b[0;32m---> 34\u001b[0;31m     \u001b[0mZ1\u001b[0m \u001b[0;34m=\u001b[0m \u001b[0mnp\u001b[0m\u001b[0;34m.\u001b[0m\u001b[0mdot\u001b[0m\u001b[0;34m(\u001b[0m\u001b[0mX\u001b[0m\u001b[0;34m,\u001b[0m \u001b[0mW1\u001b[0m\u001b[0;34m)\u001b[0m \u001b[0;34m+\u001b[0m \u001b[0mb1\u001b[0m\u001b[0;34m\u001b[0m\u001b[0;34m\u001b[0m\u001b[0m\n\u001b[0m\u001b[1;32m     35\u001b[0m     \u001b[0mA1\u001b[0m \u001b[0;34m=\u001b[0m \u001b[0mrelu\u001b[0m\u001b[0;34m(\u001b[0m\u001b[0mZ1\u001b[0m\u001b[0;34m)\u001b[0m\u001b[0;34m\u001b[0m\u001b[0;34m\u001b[0m\u001b[0m\n\u001b[1;32m     36\u001b[0m     \u001b[0mZ2\u001b[0m \u001b[0;34m=\u001b[0m \u001b[0mnp\u001b[0m\u001b[0;34m.\u001b[0m\u001b[0mdot\u001b[0m\u001b[0;34m(\u001b[0m\u001b[0mA1\u001b[0m\u001b[0;34m,\u001b[0m \u001b[0mW2\u001b[0m\u001b[0;34m)\u001b[0m \u001b[0;34m+\u001b[0m \u001b[0mb2\u001b[0m\u001b[0;34m\u001b[0m\u001b[0;34m\u001b[0m\u001b[0m\n",
            "\u001b[0;31mKeyboardInterrupt\u001b[0m: "
          ]
        }
      ]
    },
    {
      "cell_type": "code",
      "source": [],
      "metadata": {
        "id": "zS4QJeZIbMh1"
      },
      "execution_count": null,
      "outputs": []
    },
    {
      "cell_type": "code",
      "source": [
        "def test(X_test,Y_test):\n",
        "  Z1, A1, Z2, A2, Z3, A3 = forwardloop(W1, b1, W2, b2, W3, b3, X)\n",
        "  out = np.argmax(A3, axis=1)\n",
        "  print(out.shape)\n",
        "  accuracy = np.sum(out == Y_test ) / Y_test.size #accuracy is no.of correct prediction/total no.of predictions\n",
        "  print(f\"Predicted result: {out}\")\n",
        "  print(f\"Actual result: {Y_test}\")\n",
        "  print(f\"accuracy : {accuracy}\")\n",
        "\n",
        "test(X_test,Y_test)"
      ],
      "metadata": {
        "colab": {
          "base_uri": "https://localhost:8080/"
        },
        "id": "5OMazMP2bUMG",
        "outputId": "1beb3142-417f-4a25-bbf5-33a8044f5604"
      },
      "execution_count": null,
      "outputs": [
        {
          "output_type": "stream",
          "name": "stdout",
          "text": [
            "(8400,)\n",
            "Predicted result: [2 9 4 ... 5 0 8]\n",
            "Actual result: [2 9 4 ... 5 0 8]\n",
            "accuracy : 0.7354761904761905\n"
          ]
        }
      ]
    }
  ]
}